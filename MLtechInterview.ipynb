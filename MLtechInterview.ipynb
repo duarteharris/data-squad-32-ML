{
 "cells": [
  {
   "cell_type": "markdown",
   "metadata": {
    "colab_type": "text",
    "id": "yaxTV5iyhQ82"
   },
   "source": [
    "# ML Tech Interview\n",
    "\n",
    "Hello and welcome to the Machine Learning Tech Interview. This interview will be divided in two parts: the theoretical part and the practical/coding part. \n",
    "\n",
    "### **I will review only the scripts that will be sent (by pull request on this repo) by 5:00 pm on Friday**\n",
    "\n",
    "Good Luck!!"
   ]
  },
  {
   "cell_type": "markdown",
   "metadata": {
    "colab_type": "text",
    "id": "HQjWqn__hQ85"
   },
   "source": [
    "## Theoretical Part\n",
    "\n",
    "Please answer the following questions. "
   ]
  },
  {
   "cell_type": "markdown",
   "metadata": {
    "colab_type": "text",
    "id": "-0X1MRGNhQ86"
   },
   "source": [
    "#### What are the assumptions of a linear model (or any other type of model)?"
   ]
  },
  {
   "cell_type": "code",
   "execution_count": 1,
   "metadata": {
    "colab": {},
    "colab_type": "code",
    "id": "c9rLLjNphQ86"
   },
   "outputs": [
    {
     "data": {
      "text/plain": [
       "'\\nLinearity: The relationship between X and the mean of Y is linear.\\n??: The mean of residuals is zero (or very close to it).\\nHomoscedasticity: The variance of residual is the same for any value of X.\\n??: No autocorrelation of residuals.\\n??: The X variables and residuals are uncorrelated.\\nIndependence: Observations are independent of each other.\\n?? No perfect multicollinearity.\\nNormality: For any fixed value of X, Y is normally distributed.\\n??: Normality of residuals.\\n??: The number of observations must be greater than number of Xs.\\n??: The variability in X values is positive.\\n??: The regression model is correctly specified.\\n'"
      ]
     },
     "execution_count": 1,
     "metadata": {},
     "output_type": "execute_result"
    }
   ],
   "source": [
    "\"\"\"\n",
    "Linearity: The relationship between X and the mean of Y is linear.\n",
    "??: The mean of residuals is zero (or very close to it).\n",
    "Homoscedasticity: The variance of residual is the same for any value of X.\n",
    "??: No autocorrelation of residuals.\n",
    "??: The X variables and residuals are uncorrelated.\n",
    "Independence: Observations are independent of each other.\n",
    "?? No perfect multicollinearity.\n",
    "Normality: For any fixed value of X, Y is normally distributed.\n",
    "??: Normality of residuals.\n",
    "??: The number of observations must be greater than number of Xs.\n",
    "??: The variability in X values is positive.\n",
    "??: The regression model is correctly specified.\n",
    "\"\"\""
   ]
  },
  {
   "cell_type": "markdown",
   "metadata": {
    "colab_type": "text",
    "id": "XWNx7P4HhQ8_"
   },
   "source": [
    "#### What’s the difference between K Nearest Neighbor and K-means Clustering?"
   ]
  },
  {
   "cell_type": "code",
   "execution_count": 2,
   "metadata": {
    "colab": {},
    "colab_type": "code",
    "id": "hQ16LsGthQ8_"
   },
   "outputs": [
    {
     "data": {
      "text/plain": [
       "'\\nK Nearest Neighbor (KNN) is:\\n- supervised \\n- for classification or regression \\n- requires labeled data to train on\\n\\nK-means Clustering is:\\n- unsupervised \\n- for clustering\\n- iteratively partitions data points into clusters\\n\\nthe k value represents a different parameter as well.\\n'"
      ]
     },
     "execution_count": 2,
     "metadata": {},
     "output_type": "execute_result"
    }
   ],
   "source": [
    "\"\"\"\n",
    "K Nearest Neighbor (KNN) is:\n",
    "- supervised \n",
    "- for classification or regression \n",
    "- requires labeled data to train on\n",
    "\n",
    "K-means Clustering is:\n",
    "- unsupervised \n",
    "- for clustering\n",
    "- iteratively partitions data points into clusters\n",
    "\n",
    "the k value represents a different parameter as well.\n",
    "\"\"\""
   ]
  },
  {
   "cell_type": "markdown",
   "metadata": {
    "colab_type": "text",
    "id": "iDDPRfBRhQ9B"
   },
   "source": [
    "#### How do you address overfitting?"
   ]
  },
  {
   "cell_type": "code",
   "execution_count": 3,
   "metadata": {
    "colab": {},
    "colab_type": "code",
    "id": "h1TyBsLwhQ9D"
   },
   "outputs": [
    {
     "data": {
      "text/plain": [
       "'\\nOverfitting is the production of a model that corresponds too closely to a particular set of\\ndata, and may therefore fail to predict additional data. This usually occurs when a model has\\ntoo many features for the amount of data. Overfitting can be detected when our model does \\nmuch better on the training set than on the test set. There are several ways to address \\noverfitting:\\n\\n- Feature selection: dropping columns.\\n- Dimensionality reduction: techniques such as Principal Component Analysis (PCA) reduce the\\ndimensions of your feature space, hence you have fewer relationships between variables to \\nconsider and you are less likely to overfit your model.\\n- More data points\\n- Cross validation\\n- Regularization: these are techniques that attempt to simplify the model such as adding \\npenalties to the cost function.\\n'"
      ]
     },
     "execution_count": 3,
     "metadata": {},
     "output_type": "execute_result"
    }
   ],
   "source": [
    "\"\"\"\n",
    "Overfitting is the production of a model that corresponds too closely to a particular set of\n",
    "data, and may therefore fail to predict additional data. This usually occurs when a model has\n",
    "too many features for the amount of data. Overfitting can be detected when our model does \n",
    "much better on the training set than on the test set. There are several ways to address \n",
    "overfitting:\n",
    "\n",
    "- Feature selection: dropping columns.\n",
    "- Dimensionality reduction: techniques such as Principal Component Analysis (PCA) reduce the\n",
    "dimensions of your feature space, hence you have fewer relationships between variables to \n",
    "consider and you are less likely to overfit your model.\n",
    "- More data points\n",
    "- Cross validation\n",
    "- Regularization: these are techniques that attempt to simplify the model such as adding \n",
    "penalties to the cost function.\n",
    "\"\"\""
   ]
  },
  {
   "cell_type": "markdown",
   "metadata": {
    "colab_type": "text",
    "id": "0dInW-RQhQ9G"
   },
   "source": [
    "#### Explain Naive Bayes algorithms."
   ]
  },
  {
   "cell_type": "code",
   "execution_count": 4,
   "metadata": {
    "colab": {},
    "colab_type": "code",
    "id": "U76IQ8xdhQ9H"
   },
   "outputs": [
    {
     "data": {
      "text/plain": [
       "'\\nNaive Bayes (NB) is a classification algorithm. \\n\\nIt asks the question: “Given these features, does this measurement belong to class A or B?”,\\nthen answers it by taking the proportion of all previous measurements with the same features\\nbelonging to class A and multiplying it by the the proportion of all measurements in class A.\\nIf this number is bigger than the corresponding calculation for class B we say the \\nmeasurement belongs in class A. \\n\\nSince we\\'re assuming that all features are independent of each other, we can take each \\nfeature separately and determine the proportion of previous measurements that belong to \\nclass A that have the same value for this feature. Then we repeat this process to every other\\nfeature, and take its product, before finally multiplying it by the proportion of class A in \\nthe dataset. If this number is larger than when we do the corresponding calculation for class\\nB, then it belongs in class A.\\n\\nThis assumption of independence of features (which is almost never true), is what allows us \\nto not need to rely on exact duplicates from previously measured points, which would make \\npractically useless — as it would only be able to classify these duplicates and nothing more.\\n\\nThat\\'s why it\\'s called \\'naive\\'.\\n\\nThe great thing about NB is that this \"naive assumption\" actually tends to help the \\nclassification. The reason for this is that assuming two features are independent (when \\nthey\\'re actually dependent), implies we\\'re doubly-counting evidence. \\n'"
      ]
     },
     "execution_count": 4,
     "metadata": {},
     "output_type": "execute_result"
    }
   ],
   "source": [
    "\"\"\"\n",
    "Naive Bayes (NB) is a classification algorithm. \n",
    "\n",
    "It asks the question: “Given these features, does this measurement belong to class A or B?”,\n",
    "then answers it by taking the proportion of all previous measurements with the same features\n",
    "belonging to class A and multiplying it by the the proportion of all measurements in class A.\n",
    "If this number is bigger than the corresponding calculation for class B we say the \n",
    "measurement belongs in class A. \n",
    "\n",
    "Since we're assuming that all features are independent of each other, we can take each \n",
    "feature separately and determine the proportion of previous measurements that belong to \n",
    "class A that have the same value for this feature. Then we repeat this process to every other\n",
    "feature, and take its product, before finally multiplying it by the proportion of class A in \n",
    "the dataset. If this number is larger than when we do the corresponding calculation for class\n",
    "B, then it belongs in class A.\n",
    "\n",
    "This assumption of independence of features (which is almost never true), is what allows us \n",
    "to not need to rely on exact duplicates from previously measured points, which would make \n",
    "practically useless — as it would only be able to classify these duplicates and nothing more.\n",
    "\n",
    "That's why it's called 'naive'.\n",
    "\n",
    "The great thing about NB is that this \"naive assumption\" actually tends to help the \n",
    "classification. The reason for this is that assuming two features are independent (when \n",
    "they're actually dependent), implies we're doubly-counting evidence. \n",
    "\"\"\""
   ]
  },
  {
   "cell_type": "markdown",
   "metadata": {
    "colab_type": "text",
    "id": "-UsLyyonHYwN"
   },
   "source": [
    "#### When do you use an AUC-ROC score? What kind of information can you gather from it?"
   ]
  },
  {
   "cell_type": "code",
   "execution_count": 5,
   "metadata": {
    "colab": {},
    "colab_type": "code",
    "id": "Jp5SotUdHrZf"
   },
   "outputs": [
    {
     "data": {
      "text/plain": [
       "\"\\nAUC (Area Under The Curve) ROC (Receiver Operating Characteristics). Can also written as \\nAUROC (Area Under the Receiver Operating Characteristics).\\n\\nIt's an evaluation metric for checking any classification model’s performance. \\n\\nIt's a performance measurement for classification problem at various thresholds settings. \\nROC is a probability curve and AUC represents degree or measure of separability. It tells how\\nmuch a model is capable of distinguishing between classes. Higher the AUC, better the model \\nis at predicting 0s as 0s and 1s as 1s. For example, the higher the AUC, the better the model\\nis at distinguishing between patients with disease and no disease.\\n\\nAn excellent model has AUC near to the 1 which means it has good measure of separability. A \\npoor model has AUC near to the 0 which means it has worst measure of separability. In fact it\\nmeans it is reciprocating the result: predicting 0s as 1s and 1s as 0s. And when AUC is 0.5,\\nit means model has no class separation capacity whatsoever.\\n\\nROC is a curve of probability. As such, when the two curves (0's and 1's) don’t overlap at \\nall, the model has an ideal measure of separability. In other words, it's perfectly able to \\ndistinguish between positive class and negative class.\\n\\nWhen two distributions overlap, we introduce type 1 and type 2 error. Depending upon the \\nthreshold, we can minimize or maximize them. When, for example, AUC is 0.7, it means there is\\na 70% chance that model will be able to distinguish between positive class and negative \\nclass.\\n\\nWhen AUC is approximately 0, model is actually reciprocating the classes. It means, model is\\npredicting negative class as a positive class and vice versa.\\n\\nFrom the AUC-ROC you can gather TPR (True Positive Rate)/Recall/Sensitivity, Specificity\\nand FPR (False Positive Rate), where:\\n\\nTPR/Recall/Sensitivity = TP / (TP + FN)\\n\\nwhile TP stands for True Positives and FN stands for False Negatives.\\n\\nSpecifity = TN / (TN + FP)\\n\\nwhile TN stands for True Positives and FP for False Positives.\\n\\nFPR = 1 - Specificity.\\n\\nSensitivity and Specificity are inversely proportional to each other. So when we increase \\nSensitivity, Specificity decreases and vice versa.\\n\\nWhen we decrease the threshold, we get more positive values thus it increases the Sensitivity\\nand decreases the Specificity.\\n\\nSimilarly, when we increase the threshold, we get more negative values thus we get higher \\nSpecificity and lower Sensitivity.\\n\\nSince FPR is 1 - Specificity, when we increase TPR, FPR also increases and vice versa.\\n\""
      ]
     },
     "execution_count": 5,
     "metadata": {},
     "output_type": "execute_result"
    }
   ],
   "source": [
    "\"\"\"\n",
    "AUC (Area Under The Curve) ROC (Receiver Operating Characteristics). Can also written as \n",
    "AUROC (Area Under the Receiver Operating Characteristics).\n",
    "\n",
    "It's an evaluation metric for checking any classification model’s performance. \n",
    "\n",
    "It's a performance measurement for classification problem at various thresholds settings. \n",
    "ROC is a probability curve and AUC represents degree or measure of separability. It tells how\n",
    "much a model is capable of distinguishing between classes. Higher the AUC, better the model \n",
    "is at predicting 0s as 0s and 1s as 1s. For example, the higher the AUC, the better the model\n",
    "is at distinguishing between patients with disease and no disease.\n",
    "\n",
    "An excellent model has AUC near to the 1 which means it has good measure of separability. A \n",
    "poor model has AUC near to the 0 which means it has worst measure of separability. In fact it\n",
    "means it is reciprocating the result: predicting 0s as 1s and 1s as 0s. And when AUC is 0.5,\n",
    "it means model has no class separation capacity whatsoever.\n",
    "\n",
    "ROC is a curve of probability. As such, when the two curves (0's and 1's) don’t overlap at \n",
    "all, the model has an ideal measure of separability. In other words, it's perfectly able to \n",
    "distinguish between positive class and negative class.\n",
    "\n",
    "When two distributions overlap, we introduce type 1 and type 2 error. Depending upon the \n",
    "threshold, we can minimize or maximize them. When, for example, AUC is 0.7, it means there is\n",
    "a 70% chance that model will be able to distinguish between positive class and negative \n",
    "class.\n",
    "\n",
    "When AUC is approximately 0, model is actually reciprocating the classes. It means, model is\n",
    "predicting negative class as a positive class and vice versa.\n",
    "\n",
    "From the AUC-ROC you can gather TPR (True Positive Rate)/Recall/Sensitivity, Specificity\n",
    "and FPR (False Positive Rate), where:\n",
    "\n",
    "TPR/Recall/Sensitivity = TP / (TP + FN)\n",
    "\n",
    "while TP stands for True Positives and FN stands for False Negatives.\n",
    "\n",
    "Specifity = TN / (TN + FP)\n",
    "\n",
    "while TN stands for True Positives and FP for False Positives.\n",
    "\n",
    "FPR = 1 - Specificity.\n",
    "\n",
    "Sensitivity and Specificity are inversely proportional to each other. So when we increase \n",
    "Sensitivity, Specificity decreases and vice versa.\n",
    "\n",
    "When we decrease the threshold, we get more positive values thus it increases the Sensitivity\n",
    "and decreases the Specificity.\n",
    "\n",
    "Similarly, when we increase the threshold, we get more negative values thus we get higher \n",
    "Specificity and lower Sensitivity.\n",
    "\n",
    "Since FPR is 1 - Specificity, when we increase TPR, FPR also increases and vice versa.\n",
    "\"\"\""
   ]
  },
  {
   "cell_type": "markdown",
   "metadata": {
    "colab_type": "text",
    "id": "6gMzc684hQ9J"
   },
   "source": [
    "#### What is cross validation?"
   ]
  },
  {
   "cell_type": "code",
   "execution_count": 0,
   "metadata": {
    "colab": {},
    "colab_type": "code",
    "id": "7yhBiZyJhQ9K"
   },
   "outputs": [],
   "source": [
    "\"\"\"\n",
    "Cross validation (CV) is one of the technique used to test the effectiveness of machine \n",
    "learning models. It is also a re-sampling procedure used to evaluate a model if we have \n",
    "limited data. \n",
    "\n",
    "To perform CV we need to keep aside a sample of the data on which the model will be trained.\n",
    "This sample will not be seen by the model during trainning, and will instead be used latter \n",
    "for testing/validating. \n",
    "\n",
    "A few (common) CV techniques are: Train_Test Split and K-Folds Cross Validation.\n",
    "\"\"\""
   ]
  },
  {
   "cell_type": "markdown",
   "metadata": {
    "colab_type": "text",
    "id": "wqEQlGL2hQ9L"
   },
   "source": [
    "#### What are confounding variables?"
   ]
  },
  {
   "cell_type": "code",
   "execution_count": 0,
   "metadata": {
    "colab": {},
    "colab_type": "code",
    "id": "r-8POEd6hQ9M"
   },
   "outputs": [],
   "source": [
    "\"\"\"\n",
    "Confounding variables are variables that one did not account for (as if having a hidden \n",
    "effect on your dependent variables), and they can ruin experiments. For instance, they can \n",
    "suggest there is correlation when in fact there isn’t, increase variance or introduce bias. \n",
    "\"\"\""
   ]
  },
  {
   "cell_type": "markdown",
   "metadata": {
    "colab_type": "text",
    "id": "9ixSZaNdhQ9P"
   },
   "source": [
    "#### If an important metric for our company stopped appearing in our data source, how would you investigate the causes?"
   ]
  },
  {
   "cell_type": "code",
   "execution_count": 0,
   "metadata": {
    "colab": {},
    "colab_type": "code",
    "id": "KOPUF1i3hQ9Q"
   },
   "outputs": [],
   "source": [
    "\"\"\"\n",
    "Would you mind clarifying this question? What is it meant by \"stopped appearing\"? No longer\n",
    "being registered? Disapeared even from previous entries? \n",
    "\n",
    "I would probably ask collegues if they knew if something happened; If there has been a \n",
    "problem in the ETL (Extract, Transform, Load) process, if it was missing in its source, if\n",
    "there had been a change in understanding of company policy regarding that metric (depending\n",
    "on the instituition I was working on)... There are many possibilities, depending on what it's\n",
    "meant and the context.\n",
    "\"\"\""
   ]
  },
  {
   "cell_type": "markdown",
   "metadata": {
    "colab_type": "text",
    "id": "Ko6vUaXshQ9S"
   },
   "source": [
    "## Practical Machine Learning\n",
    "\n",
    "In this challenge, you will showcase your knowledge in feature engineering, dimensionality reduction, model selection and evaluation, hyperparameter tuning, and any other techniques of machine learning.\n",
    "\n",
    "There isn't a correct solution to this challenge. All we would like to learn is your thinking process that demonstrates your knowledge, experience, and creativity in developing machine learning models. Therefore, in addition to developing the model and optimizing its performance, you should also elaborate your thinking process and justify your decisions thoughout the iterative problem-solving process.\n",
    "\n",
    "The suggested time to spend on this challenge is 90-120 minutes. If you don't have time to finish all the tasks you plan to do, simply document the to-dos at the end of your response.\n",
    "\n",
    "#### Instructions:\n",
    "\n",
    "- Download the housing prices data set (housing_prices.csv). The data is big enough to showcase your thoughts but not so that processing power will be a problem.\n",
    "- Using Python, analyze the features and determine which feature set to select for modeling.\n",
    "- Train and cross validate several regression models, attempting to accurately predict the SalePrice target variable.\n",
    "- Evaluate all models and show comparison of performance metrics.\n",
    "- State your thoughts on model performance, which model(s) you would select, and why.\n",
    "\n",
    "#### Deliverables Checklist:\n",
    "\n",
    "- Python code.\n",
    "- Your thinking process.\n",
    "- The features selected for machine learning.\n",
    "- The results (e.g., performance metrics) of your selected model(s)."
   ]
  },
  {
   "cell_type": "code",
   "execution_count": 6,
   "metadata": {
    "colab": {},
    "colab_type": "code",
    "id": "3moKc9n4hQ9T"
   },
   "outputs": [
    {
     "name": "stdout",
     "output_type": "stream",
     "text": [
      "The Zen of Python, by Tim Peters\n",
      "\n",
      "Beautiful is better than ugly.\n",
      "Explicit is better than implicit.\n",
      "Simple is better than complex.\n",
      "Complex is better than complicated.\n",
      "Flat is better than nested.\n",
      "Sparse is better than dense.\n",
      "Readability counts.\n",
      "Special cases aren't special enough to break the rules.\n",
      "Although practicality beats purity.\n",
      "Errors should never pass silently.\n",
      "Unless explicitly silenced.\n",
      "In the face of ambiguity, refuse the temptation to guess.\n",
      "There should be one-- and preferably only one --obvious way to do it.\n",
      "Although that way may not be obvious at first unless you're Dutch.\n",
      "Now is better than never.\n",
      "Although never is often better than *right* now.\n",
      "If the implementation is hard to explain, it's a bad idea.\n",
      "If the implementation is easy to explain, it may be a good idea.\n",
      "Namespaces are one honking great idea -- let's do more of those!\n"
     ]
    }
   ],
   "source": [
    "# libraries\n",
    "import matplotlib.pyplot as plt\n",
    "import numpy as np\n",
    "import pandas as pd\n",
    "import seaborn as sns\n",
    "import sklearn\n",
    "from tqdm import tqdm\n",
    "import this"
   ]
  },
  {
   "cell_type": "code",
   "execution_count": 7,
   "metadata": {},
   "outputs": [
    {
     "name": "stdout",
     "output_type": "stream",
     "text": [
      "numpy version: 1.18.1\n",
      "pandas version: 1.0.1\n",
      "Seaborn version: 0.10.0\n",
      "sklearn version: 0.22.1\n"
     ]
    }
   ],
   "source": [
    "# Versions\n",
    "print(\"numpy version:\", np.__version__)\n",
    "print(\"pandas version:\", pd.__version__)\n",
    "print(\"Seaborn version:\", sns.__version__)\n",
    "print(\"sklearn version:\", sklearn.__version__)"
   ]
  },
  {
   "cell_type": "code",
   "execution_count": 8,
   "metadata": {},
   "outputs": [],
   "source": [
    "# Datasets directory\n",
    "directory = \"./datasets/\""
   ]
  },
  {
   "cell_type": "code",
   "execution_count": 9,
   "metadata": {},
   "outputs": [],
   "source": [
    "# creating a DF\n",
    "housing = pd.read_csv(directory + \"housing_prices.csv\")"
   ]
  },
  {
   "cell_type": "code",
   "execution_count": 10,
   "metadata": {},
   "outputs": [
    {
     "data": {
      "text/plain": [
       "(1460, 81)"
      ]
     },
     "execution_count": 10,
     "metadata": {},
     "output_type": "execute_result"
    }
   ],
   "source": [
    "# checking size\n",
    "housing.shape # there are aprox. 18 observations for feature, which is quite a low number of\n",
    "# observations per feature."
   ]
  },
  {
   "cell_type": "code",
   "execution_count": 12,
   "metadata": {},
   "outputs": [
    {
     "data": {
      "text/html": [
       "<div>\n",
       "<style scoped>\n",
       "    .dataframe tbody tr th:only-of-type {\n",
       "        vertical-align: middle;\n",
       "    }\n",
       "\n",
       "    .dataframe tbody tr th {\n",
       "        vertical-align: top;\n",
       "    }\n",
       "\n",
       "    .dataframe thead th {\n",
       "        text-align: right;\n",
       "    }\n",
       "</style>\n",
       "<table border=\"1\" class=\"dataframe\">\n",
       "  <thead>\n",
       "    <tr style=\"text-align: right;\">\n",
       "      <th></th>\n",
       "      <th>Id</th>\n",
       "      <th>MSSubClass</th>\n",
       "      <th>MSZoning</th>\n",
       "      <th>LotFrontage</th>\n",
       "      <th>LotArea</th>\n",
       "      <th>Street</th>\n",
       "      <th>Alley</th>\n",
       "      <th>LotShape</th>\n",
       "      <th>LandContour</th>\n",
       "      <th>Utilities</th>\n",
       "      <th>...</th>\n",
       "      <th>PoolArea</th>\n",
       "      <th>PoolQC</th>\n",
       "      <th>Fence</th>\n",
       "      <th>MiscFeature</th>\n",
       "      <th>MiscVal</th>\n",
       "      <th>MoSold</th>\n",
       "      <th>YrSold</th>\n",
       "      <th>SaleType</th>\n",
       "      <th>SaleCondition</th>\n",
       "      <th>SalePrice</th>\n",
       "    </tr>\n",
       "  </thead>\n",
       "  <tbody>\n",
       "    <tr>\n",
       "      <th>1455</th>\n",
       "      <td>1456</td>\n",
       "      <td>60</td>\n",
       "      <td>RL</td>\n",
       "      <td>62.0</td>\n",
       "      <td>7917</td>\n",
       "      <td>Pave</td>\n",
       "      <td>NaN</td>\n",
       "      <td>Reg</td>\n",
       "      <td>Lvl</td>\n",
       "      <td>AllPub</td>\n",
       "      <td>...</td>\n",
       "      <td>0</td>\n",
       "      <td>NaN</td>\n",
       "      <td>NaN</td>\n",
       "      <td>NaN</td>\n",
       "      <td>0</td>\n",
       "      <td>8</td>\n",
       "      <td>2007</td>\n",
       "      <td>WD</td>\n",
       "      <td>Normal</td>\n",
       "      <td>175000</td>\n",
       "    </tr>\n",
       "    <tr>\n",
       "      <th>1456</th>\n",
       "      <td>1457</td>\n",
       "      <td>20</td>\n",
       "      <td>RL</td>\n",
       "      <td>85.0</td>\n",
       "      <td>13175</td>\n",
       "      <td>Pave</td>\n",
       "      <td>NaN</td>\n",
       "      <td>Reg</td>\n",
       "      <td>Lvl</td>\n",
       "      <td>AllPub</td>\n",
       "      <td>...</td>\n",
       "      <td>0</td>\n",
       "      <td>NaN</td>\n",
       "      <td>MnPrv</td>\n",
       "      <td>NaN</td>\n",
       "      <td>0</td>\n",
       "      <td>2</td>\n",
       "      <td>2010</td>\n",
       "      <td>WD</td>\n",
       "      <td>Normal</td>\n",
       "      <td>210000</td>\n",
       "    </tr>\n",
       "    <tr>\n",
       "      <th>1457</th>\n",
       "      <td>1458</td>\n",
       "      <td>70</td>\n",
       "      <td>RL</td>\n",
       "      <td>66.0</td>\n",
       "      <td>9042</td>\n",
       "      <td>Pave</td>\n",
       "      <td>NaN</td>\n",
       "      <td>Reg</td>\n",
       "      <td>Lvl</td>\n",
       "      <td>AllPub</td>\n",
       "      <td>...</td>\n",
       "      <td>0</td>\n",
       "      <td>NaN</td>\n",
       "      <td>GdPrv</td>\n",
       "      <td>Shed</td>\n",
       "      <td>2500</td>\n",
       "      <td>5</td>\n",
       "      <td>2010</td>\n",
       "      <td>WD</td>\n",
       "      <td>Normal</td>\n",
       "      <td>266500</td>\n",
       "    </tr>\n",
       "    <tr>\n",
       "      <th>1458</th>\n",
       "      <td>1459</td>\n",
       "      <td>20</td>\n",
       "      <td>RL</td>\n",
       "      <td>68.0</td>\n",
       "      <td>9717</td>\n",
       "      <td>Pave</td>\n",
       "      <td>NaN</td>\n",
       "      <td>Reg</td>\n",
       "      <td>Lvl</td>\n",
       "      <td>AllPub</td>\n",
       "      <td>...</td>\n",
       "      <td>0</td>\n",
       "      <td>NaN</td>\n",
       "      <td>NaN</td>\n",
       "      <td>NaN</td>\n",
       "      <td>0</td>\n",
       "      <td>4</td>\n",
       "      <td>2010</td>\n",
       "      <td>WD</td>\n",
       "      <td>Normal</td>\n",
       "      <td>142125</td>\n",
       "    </tr>\n",
       "    <tr>\n",
       "      <th>1459</th>\n",
       "      <td>1460</td>\n",
       "      <td>20</td>\n",
       "      <td>RL</td>\n",
       "      <td>75.0</td>\n",
       "      <td>9937</td>\n",
       "      <td>Pave</td>\n",
       "      <td>NaN</td>\n",
       "      <td>Reg</td>\n",
       "      <td>Lvl</td>\n",
       "      <td>AllPub</td>\n",
       "      <td>...</td>\n",
       "      <td>0</td>\n",
       "      <td>NaN</td>\n",
       "      <td>NaN</td>\n",
       "      <td>NaN</td>\n",
       "      <td>0</td>\n",
       "      <td>6</td>\n",
       "      <td>2008</td>\n",
       "      <td>WD</td>\n",
       "      <td>Normal</td>\n",
       "      <td>147500</td>\n",
       "    </tr>\n",
       "  </tbody>\n",
       "</table>\n",
       "<p>5 rows × 81 columns</p>\n",
       "</div>"
      ],
      "text/plain": [
       "        Id  MSSubClass MSZoning  LotFrontage  LotArea Street Alley LotShape  \\\n",
       "1455  1456          60       RL         62.0     7917   Pave   NaN      Reg   \n",
       "1456  1457          20       RL         85.0    13175   Pave   NaN      Reg   \n",
       "1457  1458          70       RL         66.0     9042   Pave   NaN      Reg   \n",
       "1458  1459          20       RL         68.0     9717   Pave   NaN      Reg   \n",
       "1459  1460          20       RL         75.0     9937   Pave   NaN      Reg   \n",
       "\n",
       "     LandContour Utilities  ... PoolArea PoolQC  Fence MiscFeature MiscVal  \\\n",
       "1455         Lvl    AllPub  ...        0    NaN    NaN         NaN       0   \n",
       "1456         Lvl    AllPub  ...        0    NaN  MnPrv         NaN       0   \n",
       "1457         Lvl    AllPub  ...        0    NaN  GdPrv        Shed    2500   \n",
       "1458         Lvl    AllPub  ...        0    NaN    NaN         NaN       0   \n",
       "1459         Lvl    AllPub  ...        0    NaN    NaN         NaN       0   \n",
       "\n",
       "     MoSold YrSold  SaleType  SaleCondition  SalePrice  \n",
       "1455      8   2007        WD         Normal     175000  \n",
       "1456      2   2010        WD         Normal     210000  \n",
       "1457      5   2010        WD         Normal     266500  \n",
       "1458      4   2010        WD         Normal     142125  \n",
       "1459      6   2008        WD         Normal     147500  \n",
       "\n",
       "[5 rows x 81 columns]"
      ]
     },
     "execution_count": 12,
     "metadata": {},
     "output_type": "execute_result"
    }
   ],
   "source": [
    "# looking at head and tail\n",
    "housing.head()\n",
    "housing.tail()"
   ]
  },
  {
   "cell_type": "code",
   "execution_count": 14,
   "metadata": {},
   "outputs": [
    {
     "data": {
      "text/plain": [
       "Index(['Id', 'MSSubClass', 'MSZoning', 'LotFrontage', 'LotArea', 'Street',\n",
       "       'Alley', 'LotShape', 'LandContour', 'Utilities', 'LotConfig',\n",
       "       'LandSlope', 'Neighborhood', 'Condition1', 'Condition2', 'BldgType',\n",
       "       'HouseStyle', 'OverallQual', 'OverallCond', 'YearBuilt', 'YearRemodAdd',\n",
       "       'RoofStyle', 'RoofMatl', 'Exterior1st', 'Exterior2nd', 'MasVnrType',\n",
       "       'MasVnrArea', 'ExterQual', 'ExterCond', 'Foundation', 'BsmtQual',\n",
       "       'BsmtCond', 'BsmtExposure', 'BsmtFinType1', 'BsmtFinSF1',\n",
       "       'BsmtFinType2', 'BsmtFinSF2', 'BsmtUnfSF', 'TotalBsmtSF', 'Heating',\n",
       "       'HeatingQC', 'CentralAir', 'Electrical', '1stFlrSF', '2ndFlrSF',\n",
       "       'LowQualFinSF', 'GrLivArea', 'BsmtFullBath', 'BsmtHalfBath', 'FullBath',\n",
       "       'HalfBath', 'BedroomAbvGr', 'KitchenAbvGr', 'KitchenQual',\n",
       "       'TotRmsAbvGrd', 'Functional', 'Fireplaces', 'FireplaceQu', 'GarageType',\n",
       "       'GarageYrBlt', 'GarageFinish', 'GarageCars', 'GarageArea', 'GarageQual',\n",
       "       'GarageCond', 'PavedDrive', 'WoodDeckSF', 'OpenPorchSF',\n",
       "       'EnclosedPorch', '3SsnPorch', 'ScreenPorch', 'PoolArea', 'PoolQC',\n",
       "       'Fence', 'MiscFeature', 'MiscVal', 'MoSold', 'YrSold', 'SaleType',\n",
       "       'SaleCondition', 'SalePrice'],\n",
       "      dtype='object')"
      ]
     },
     "execution_count": 14,
     "metadata": {},
     "output_type": "execute_result"
    }
   ],
   "source": [
    "# checking columns (Series/Features)\n",
    "housing.columns"
   ]
  },
  {
   "cell_type": "code",
   "execution_count": 32,
   "metadata": {},
   "outputs": [],
   "source": [
    "# increasing the number of columns to display\n",
    "pd.set_option(\"display.max_columns\", None)\n",
    "\n",
    "# increasing the number of rows to display\n",
    "pd.set_option(\"display.max_rows\", None)"
   ]
  },
  {
   "cell_type": "code",
   "execution_count": 33,
   "metadata": {},
   "outputs": [
    {
     "data": {
      "text/plain": [
       "Id                 int64\n",
       "MSSubClass         int64\n",
       "MSZoning          object\n",
       "LotFrontage      float64\n",
       "LotArea            int64\n",
       "Street            object\n",
       "Alley             object\n",
       "LotShape          object\n",
       "LandContour       object\n",
       "Utilities         object\n",
       "LotConfig         object\n",
       "LandSlope         object\n",
       "Neighborhood      object\n",
       "Condition1        object\n",
       "Condition2        object\n",
       "BldgType          object\n",
       "HouseStyle        object\n",
       "OverallQual        int64\n",
       "OverallCond        int64\n",
       "YearBuilt          int64\n",
       "YearRemodAdd       int64\n",
       "RoofStyle         object\n",
       "RoofMatl          object\n",
       "Exterior1st       object\n",
       "Exterior2nd       object\n",
       "MasVnrType        object\n",
       "MasVnrArea       float64\n",
       "ExterQual         object\n",
       "ExterCond         object\n",
       "Foundation        object\n",
       "BsmtQual          object\n",
       "BsmtCond          object\n",
       "BsmtExposure      object\n",
       "BsmtFinType1      object\n",
       "BsmtFinSF1         int64\n",
       "BsmtFinType2      object\n",
       "BsmtFinSF2         int64\n",
       "BsmtUnfSF          int64\n",
       "TotalBsmtSF        int64\n",
       "Heating           object\n",
       "HeatingQC         object\n",
       "CentralAir        object\n",
       "Electrical        object\n",
       "1stFlrSF           int64\n",
       "2ndFlrSF           int64\n",
       "LowQualFinSF       int64\n",
       "GrLivArea          int64\n",
       "BsmtFullBath       int64\n",
       "BsmtHalfBath       int64\n",
       "FullBath           int64\n",
       "HalfBath           int64\n",
       "BedroomAbvGr       int64\n",
       "KitchenAbvGr       int64\n",
       "KitchenQual       object\n",
       "TotRmsAbvGrd       int64\n",
       "Functional        object\n",
       "Fireplaces         int64\n",
       "FireplaceQu       object\n",
       "GarageType        object\n",
       "GarageYrBlt      float64\n",
       "GarageFinish      object\n",
       "GarageCars         int64\n",
       "GarageArea         int64\n",
       "GarageQual        object\n",
       "GarageCond        object\n",
       "PavedDrive        object\n",
       "WoodDeckSF         int64\n",
       "OpenPorchSF        int64\n",
       "EnclosedPorch      int64\n",
       "3SsnPorch          int64\n",
       "ScreenPorch        int64\n",
       "PoolArea           int64\n",
       "PoolQC            object\n",
       "Fence             object\n",
       "MiscFeature       object\n",
       "MiscVal            int64\n",
       "MoSold             int64\n",
       "YrSold             int64\n",
       "SaleType          object\n",
       "SaleCondition     object\n",
       "SalePrice          int64\n",
       "dtype: object"
      ]
     },
     "execution_count": 33,
     "metadata": {},
     "output_type": "execute_result"
    }
   ],
   "source": [
    "# checking columns dtypes; Floats may exist due to NaN's\n",
    "housing.dtypes # SalePrice is int64"
   ]
  },
  {
   "cell_type": "code",
   "execution_count": 34,
   "metadata": {
    "scrolled": false
   },
   "outputs": [
    {
     "name": "stdout",
     "output_type": "stream",
     "text": [
      "Abs by Column:\n",
      " Id                  0\n",
      "MSSubClass          0\n",
      "MSZoning            0\n",
      "LotFrontage       259\n",
      "LotArea             0\n",
      "Street              0\n",
      "Alley            1369\n",
      "LotShape            0\n",
      "LandContour         0\n",
      "Utilities           0\n",
      "LotConfig           0\n",
      "LandSlope           0\n",
      "Neighborhood        0\n",
      "Condition1          0\n",
      "Condition2          0\n",
      "BldgType            0\n",
      "HouseStyle          0\n",
      "OverallQual         0\n",
      "OverallCond         0\n",
      "YearBuilt           0\n",
      "YearRemodAdd        0\n",
      "RoofStyle           0\n",
      "RoofMatl            0\n",
      "Exterior1st         0\n",
      "Exterior2nd         0\n",
      "MasVnrType          8\n",
      "MasVnrArea          8\n",
      "ExterQual           0\n",
      "ExterCond           0\n",
      "Foundation          0\n",
      "BsmtQual           37\n",
      "BsmtCond           37\n",
      "BsmtExposure       38\n",
      "BsmtFinType1       37\n",
      "BsmtFinSF1          0\n",
      "BsmtFinType2       38\n",
      "BsmtFinSF2          0\n",
      "BsmtUnfSF           0\n",
      "TotalBsmtSF         0\n",
      "Heating             0\n",
      "HeatingQC           0\n",
      "CentralAir          0\n",
      "Electrical          1\n",
      "1stFlrSF            0\n",
      "2ndFlrSF            0\n",
      "LowQualFinSF        0\n",
      "GrLivArea           0\n",
      "BsmtFullBath        0\n",
      "BsmtHalfBath        0\n",
      "FullBath            0\n",
      "HalfBath            0\n",
      "BedroomAbvGr        0\n",
      "KitchenAbvGr        0\n",
      "KitchenQual         0\n",
      "TotRmsAbvGrd        0\n",
      "Functional          0\n",
      "Fireplaces          0\n",
      "FireplaceQu       690\n",
      "GarageType         81\n",
      "GarageYrBlt        81\n",
      "GarageFinish       81\n",
      "GarageCars          0\n",
      "GarageArea          0\n",
      "GarageQual         81\n",
      "GarageCond         81\n",
      "PavedDrive          0\n",
      "WoodDeckSF          0\n",
      "OpenPorchSF         0\n",
      "EnclosedPorch       0\n",
      "3SsnPorch           0\n",
      "ScreenPorch         0\n",
      "PoolArea            0\n",
      "PoolQC           1453\n",
      "Fence            1179\n",
      "MiscFeature      1406\n",
      "MiscVal             0\n",
      "MoSold              0\n",
      "YrSold              0\n",
      "SaleType            0\n",
      "SaleCondition       0\n",
      "SalePrice           0\n",
      "dtype: int64\n",
      "\n",
      "% by Column:\n",
      " Id                0.00\n",
      "MSSubClass        0.00\n",
      "MSZoning          0.00\n",
      "LotFrontage      17.74\n",
      "LotArea           0.00\n",
      "Street            0.00\n",
      "Alley            93.77\n",
      "LotShape          0.00\n",
      "LandContour       0.00\n",
      "Utilities         0.00\n",
      "LotConfig         0.00\n",
      "LandSlope         0.00\n",
      "Neighborhood      0.00\n",
      "Condition1        0.00\n",
      "Condition2        0.00\n",
      "BldgType          0.00\n",
      "HouseStyle        0.00\n",
      "OverallQual       0.00\n",
      "OverallCond       0.00\n",
      "YearBuilt         0.00\n",
      "YearRemodAdd      0.00\n",
      "RoofStyle         0.00\n",
      "RoofMatl          0.00\n",
      "Exterior1st       0.00\n",
      "Exterior2nd       0.00\n",
      "MasVnrType        0.55\n",
      "MasVnrArea        0.55\n",
      "ExterQual         0.00\n",
      "ExterCond         0.00\n",
      "Foundation        0.00\n",
      "BsmtQual          2.53\n",
      "BsmtCond          2.53\n",
      "BsmtExposure      2.60\n",
      "BsmtFinType1      2.53\n",
      "BsmtFinSF1        0.00\n",
      "BsmtFinType2      2.60\n",
      "BsmtFinSF2        0.00\n",
      "BsmtUnfSF         0.00\n",
      "TotalBsmtSF       0.00\n",
      "Heating           0.00\n",
      "HeatingQC         0.00\n",
      "CentralAir        0.00\n",
      "Electrical        0.07\n",
      "1stFlrSF          0.00\n",
      "2ndFlrSF          0.00\n",
      "LowQualFinSF      0.00\n",
      "GrLivArea         0.00\n",
      "BsmtFullBath      0.00\n",
      "BsmtHalfBath      0.00\n",
      "FullBath          0.00\n",
      "HalfBath          0.00\n",
      "BedroomAbvGr      0.00\n",
      "KitchenAbvGr      0.00\n",
      "KitchenQual       0.00\n",
      "TotRmsAbvGrd      0.00\n",
      "Functional        0.00\n",
      "Fireplaces        0.00\n",
      "FireplaceQu      47.26\n",
      "GarageType        5.55\n",
      "GarageYrBlt       5.55\n",
      "GarageFinish      5.55\n",
      "GarageCars        0.00\n",
      "GarageArea        0.00\n",
      "GarageQual        5.55\n",
      "GarageCond        5.55\n",
      "PavedDrive        0.00\n",
      "WoodDeckSF        0.00\n",
      "OpenPorchSF       0.00\n",
      "EnclosedPorch     0.00\n",
      "3SsnPorch         0.00\n",
      "ScreenPorch       0.00\n",
      "PoolArea          0.00\n",
      "PoolQC           99.52\n",
      "Fence            80.75\n",
      "MiscFeature      96.30\n",
      "MiscVal           0.00\n",
      "MoSold            0.00\n",
      "YrSold            0.00\n",
      "SaleType          0.00\n",
      "SaleCondition     0.00\n",
      "SalePrice         0.00\n",
      "dtype: float64\n"
     ]
    }
   ],
   "source": [
    "# different ways to check the % of nulls in a df/series\n",
    "print(\"Abs by Column:\\n\", housing.isna().sum())\n",
    "print(\"\\n% by Column:\\n\", housing.isna().mean().round(4) * 100)"
   ]
  },
  {
   "cell_type": "code",
   "execution_count": 39,
   "metadata": {},
   "outputs": [
    {
     "name": "stdout",
     "output_type": "stream",
     "text": [
      "Amount of Unique values in in column:\n",
      "\n",
      "Id 1460\n",
      "MSSubClass 15\n",
      "MSZoning 5\n",
      "LotFrontage 111\n",
      "LotArea 1073\n",
      "Street 2\n",
      "Alley 3\n",
      "LotShape 4\n",
      "LandContour 4\n",
      "Utilities 2\n",
      "LotConfig 5\n",
      "LandSlope 3\n",
      "Neighborhood 25\n",
      "Condition1 9\n",
      "Condition2 8\n",
      "BldgType 5\n",
      "HouseStyle 8\n",
      "OverallQual 10\n",
      "OverallCond 9\n",
      "YearBuilt 112\n",
      "YearRemodAdd 61\n",
      "RoofStyle 6\n",
      "RoofMatl 8\n",
      "Exterior1st 15\n",
      "Exterior2nd 16\n",
      "MasVnrType 5\n",
      "MasVnrArea 328\n",
      "ExterQual 4\n",
      "ExterCond 5\n",
      "Foundation 6\n",
      "BsmtQual 5\n",
      "BsmtCond 5\n",
      "BsmtExposure 5\n",
      "BsmtFinType1 7\n",
      "BsmtFinSF1 637\n",
      "BsmtFinType2 7\n",
      "BsmtFinSF2 144\n",
      "BsmtUnfSF 780\n",
      "TotalBsmtSF 721\n",
      "Heating 6\n",
      "HeatingQC 5\n",
      "CentralAir 2\n",
      "Electrical 6\n",
      "1stFlrSF 753\n",
      "2ndFlrSF 417\n",
      "LowQualFinSF 24\n",
      "GrLivArea 861\n",
      "BsmtFullBath 4\n",
      "BsmtHalfBath 3\n",
      "FullBath 4\n",
      "HalfBath 3\n",
      "BedroomAbvGr 8\n",
      "KitchenAbvGr 4\n",
      "KitchenQual 4\n",
      "TotRmsAbvGrd 12\n",
      "Functional 7\n",
      "Fireplaces 4\n",
      "FireplaceQu 6\n",
      "GarageType 7\n",
      "GarageYrBlt 98\n",
      "GarageFinish 4\n",
      "GarageCars 5\n",
      "GarageArea 441\n",
      "GarageQual 6\n",
      "GarageCond 6\n",
      "PavedDrive 3\n",
      "WoodDeckSF 274\n",
      "OpenPorchSF 202\n",
      "EnclosedPorch 120\n",
      "3SsnPorch 20\n",
      "ScreenPorch 76\n",
      "PoolArea 8\n",
      "PoolQC 4\n",
      "Fence 5\n",
      "MiscFeature 5\n",
      "MiscVal 21\n",
      "MoSold 12\n",
      "YrSold 5\n",
      "SaleType 9\n",
      "SaleCondition 6\n",
      "SalePrice 663\n"
     ]
    }
   ],
   "source": [
    "# I'm going to check how many unique values there are in each column.\n",
    "print(\"Amount of Unique values in in column:\\n\")\n",
    "for col in housing.columns:\n",
    "    print(col, len(housing[col].unique()))"
   ]
  },
  {
   "cell_type": "code",
   "execution_count": 40,
   "metadata": {},
   "outputs": [
    {
     "name": "stdout",
     "output_type": "stream",
     "text": [
      "MSZoning 5 ['RL' 'RM' 'C (all)' 'FV' 'RH']\n",
      "Street 2 ['Pave' 'Grvl']\n",
      "Alley 3 [nan 'Grvl' 'Pave']\n",
      "LotShape 4 ['Reg' 'IR1' 'IR2' 'IR3']\n",
      "LandContour 4 ['Lvl' 'Bnk' 'Low' 'HLS']\n",
      "Utilities 2 ['AllPub' 'NoSeWa']\n",
      "LotConfig 5 ['Inside' 'FR2' 'Corner' 'CulDSac' 'FR3']\n",
      "LandSlope 3 ['Gtl' 'Mod' 'Sev']\n",
      "BldgType 5 ['1Fam' '2fmCon' 'Duplex' 'TwnhsE' 'Twnhs']\n",
      "MasVnrType 5 ['BrkFace' 'None' 'Stone' 'BrkCmn' nan]\n",
      "ExterQual 4 ['Gd' 'TA' 'Ex' 'Fa']\n",
      "ExterCond 5 ['TA' 'Gd' 'Fa' 'Po' 'Ex']\n",
      "BsmtQual 5 ['Gd' 'TA' 'Ex' nan 'Fa']\n",
      "BsmtCond 5 ['TA' 'Gd' nan 'Fa' 'Po']\n",
      "BsmtExposure 5 ['No' 'Gd' 'Mn' 'Av' nan]\n",
      "HeatingQC 5 ['Ex' 'Gd' 'TA' 'Fa' 'Po']\n",
      "CentralAir 2 ['Y' 'N']\n",
      "BsmtFullBath 4 [1 0 2 3]\n",
      "BsmtHalfBath 3 [0 1 2]\n",
      "FullBath 4 [2 1 3 0]\n",
      "HalfBath 3 [1 0 2]\n",
      "KitchenAbvGr 4 [1 2 3 0]\n",
      "KitchenQual 4 ['Gd' 'TA' 'Ex' 'Fa']\n",
      "Fireplaces 4 [0 1 2 3]\n",
      "GarageFinish 4 ['RFn' 'Unf' 'Fin' nan]\n",
      "GarageCars 5 [2 3 1 0 4]\n",
      "PavedDrive 3 ['Y' 'N' 'P']\n",
      "PoolQC 4 [nan 'Ex' 'Fa' 'Gd']\n",
      "Fence 5 [nan 'MnPrv' 'GdWo' 'GdPrv' 'MnWw']\n",
      "MiscFeature 5 [nan 'Shed' 'Gar2' 'Othr' 'TenC']\n",
      "YrSold 5 [2008 2007 2006 2009 2010]\n"
     ]
    }
   ],
   "source": [
    "# I suspect that some that have 3 are binary values (Yes/No, True/False) plus NaN's, so I'm\n",
    "# going to look at that:\n",
    "for col in housing.columns:\n",
    "    if len(housing[col].unique()) <= 5:\n",
    "        print(col, len(housing[col].unique()), housing[col].unique())"
   ]
  },
  {
   "cell_type": "code",
   "execution_count": 41,
   "metadata": {},
   "outputs": [
    {
     "data": {
      "text/plain": [
       "'\\nA couple of things:\\n1) from what I could gather, the source of this dataset is: https://github.com/Avkash/mldl,\\nbut there\\'s no documentation on it :/, which means that I won\\'t always be able to known/infer\\nor understand what a particular column is representing;\\n\\n2) Just by looking at the columns above, there might be some space to redesign the features;\\nfor instance, \"Street\" could actually be separated in two binary columns (\"str_pave\" and \\n\"str_grav\"), where each would have 0 or 1 to represent if a street is not paved or it is,\\nif it is not \"grav\" (gravel?) or if it is.\\n\\nAlso: The only column that seems to actually come as binary is CentralAir (Y/N).\\n'"
      ]
     },
     "execution_count": 41,
     "metadata": {},
     "output_type": "execute_result"
    }
   ],
   "source": [
    "\"\"\"\n",
    "A couple of things:\n",
    "1) from what I could gather, the source of this dataset is: https://github.com/Avkash/mldl,\n",
    "but there's no documentation on it :/, which means that I won't always be able to known/infer\n",
    "or understand what a particular column is representing;\n",
    "\n",
    "2) Just by looking at the columns above, there might be some space to redesign the features;\n",
    "for instance, \"Street\" could actually be separated in two binary columns (\"str_pave\" and \n",
    "\"str_grav\"), where each would have 0 or 1 to represent if a street is not paved or it is,\n",
    "if it is not \"grav\" (gravel?) or if it is.\n",
    "\n",
    "Also: The only column that seems to actually come as binary is CentralAir (Y/N).\n",
    "\"\"\""
   ]
  },
  {
   "cell_type": "code",
   "execution_count": 45,
   "metadata": {},
   "outputs": [
    {
     "name": "stdout",
     "output_type": "stream",
     "text": [
      "Numeric:\n",
      " ['Id', 'MSSubClass', 'LotFrontage', 'LotArea', 'OverallQual', 'OverallCond', 'YearBuilt', 'YearRemodAdd', 'MasVnrArea', 'BsmtFinSF1', 'BsmtFinSF2', 'BsmtUnfSF', 'TotalBsmtSF', '1stFlrSF', '2ndFlrSF', 'LowQualFinSF', 'GrLivArea', 'BsmtFullBath', 'BsmtHalfBath', 'FullBath', 'HalfBath', 'BedroomAbvGr', 'KitchenAbvGr', 'TotRmsAbvGrd', 'Fireplaces', 'GarageYrBlt', 'GarageCars', 'GarageArea', 'WoodDeckSF', 'OpenPorchSF', 'EnclosedPorch', '3SsnPorch', 'ScreenPorch', 'PoolArea', 'MiscVal', 'MoSold', 'YrSold', 'SalePrice']\n",
      "\n",
      "Categorical:\n",
      " ['MSZoning', 'Street', 'Alley', 'LotShape', 'LandContour', 'Utilities', 'LotConfig', 'LandSlope', 'Neighborhood', 'Condition1', 'Condition2', 'BldgType', 'HouseStyle', 'RoofStyle', 'RoofMatl', 'Exterior1st', 'Exterior2nd', 'MasVnrType', 'ExterQual', 'ExterCond', 'Foundation', 'BsmtQual', 'BsmtCond', 'BsmtExposure', 'BsmtFinType1', 'BsmtFinType2', 'Heating', 'HeatingQC', 'CentralAir', 'Electrical', 'KitchenQual', 'Functional', 'FireplaceQu', 'GarageType', 'GarageFinish', 'GarageQual', 'GarageCond', 'PavedDrive', 'PoolQC', 'Fence', 'MiscFeature', 'SaleType', 'SaleCondition']\n"
     ]
    }
   ],
   "source": [
    "# Checking how many cols are numeric and how many are categorical\n",
    "print(f\"Numeric:\\n {list(housing.select_dtypes(include = 'number').columns)}\")\n",
    "print(f\"\\nCategorical:\\n {list(housing.select_dtypes(include = 'object').columns)}\")"
   ]
  },
  {
   "cell_type": "code",
   "execution_count": null,
   "metadata": {},
   "outputs": [],
   "source": [
    "# goal: accurately predict SalePrice (target)"
   ]
  }
 ],
 "metadata": {
  "colab": {
   "collapsed_sections": [],
   "name": "MLtechInterview.ipynb",
   "provenance": []
  },
  "kernelspec": {
   "display_name": "Python 3",
   "language": "python",
   "name": "python3"
  },
  "language_info": {
   "codemirror_mode": {
    "name": "ipython",
    "version": 3
   },
   "file_extension": ".py",
   "mimetype": "text/x-python",
   "name": "python",
   "nbconvert_exporter": "python",
   "pygments_lexer": "ipython3",
   "version": "3.7.6"
  }
 },
 "nbformat": 4,
 "nbformat_minor": 1
}
